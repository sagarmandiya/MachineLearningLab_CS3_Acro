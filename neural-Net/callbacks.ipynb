{
 "cells": [
  {
   "cell_type": "markdown",
   "metadata": {},
   "source": [
    "Callbacks is means of stopping the training once a certain desired accuracy has been reached. Implementation of callbacks is demonstrated below."
   ]
  },
  {
   "cell_type": "code",
   "execution_count": 1,
   "metadata": {},
   "outputs": [],
   "source": [
    "import tensorflow as tf"
   ]
  },
  {
   "cell_type": "code",
   "execution_count": 2,
   "metadata": {},
   "outputs": [],
   "source": [
    "class mycallback(tf.keras.callbacks.Callback):\n",
    "    def on_epoch_end(self, epoch, logs={}):\n",
    "        if(logs.get('accuracy') > 0.99):\n",
    "            print('\\nAccuracy of 99% is achieved thereby cancelling Training')\n",
    "            self.model.stop_training = True"
   ]
  },
  {
   "cell_type": "code",
   "execution_count": 3,
   "metadata": {},
   "outputs": [],
   "source": [
    "mnist = tf.keras.datasets.mnist"
   ]
  },
  {
   "cell_type": "code",
   "execution_count": 4,
   "metadata": {},
   "outputs": [],
   "source": [
    "(x_train, y_train), (x_test, y_test) = mnist.load_data()\n",
    "x_train, x_test = x_train / 255., x_test / 255."
   ]
  },
  {
   "cell_type": "code",
   "execution_count": 5,
   "metadata": {},
   "outputs": [],
   "source": [
    "callbacks = mycallback()"
   ]
  },
  {
   "cell_type": "code",
   "execution_count": 6,
   "metadata": {},
   "outputs": [],
   "source": [
    "model = tf.keras.models.Sequential([\n",
    "    tf.keras.layers.Flatten(input_shape=(28, 28)), \n",
    "    tf.keras.layers.Dense(512, activation=tf.nn.relu), \n",
    "    tf.keras.layers.Dense(320, activation='relu'), \n",
    "    tf.keras.layers.Dense(10, activation=tf.nn.softmax)\n",
    "])"
   ]
  },
  {
   "cell_type": "code",
   "execution_count": 7,
   "metadata": {},
   "outputs": [],
   "source": [
    "model.compile(optimizer='sgd', \n",
    "             loss='sparse_categorical_crossentropy', \n",
    "             metrics=['accuracy'])"
   ]
  },
  {
   "cell_type": "code",
   "execution_count": 8,
   "metadata": {},
   "outputs": [
    {
     "name": "stdout",
     "output_type": "stream",
     "text": [
      "Train on 60000 samples\n",
      "Epoch 1/25\n",
      "60000/60000 [==============================] - 6s 106us/sample - loss: 0.5759 - accuracy: 0.8546\n",
      "Epoch 2/25\n",
      "60000/60000 [==============================] - 6s 98us/sample - loss: 0.2716 - accuracy: 0.9228\n",
      "Epoch 3/25\n",
      "60000/60000 [==============================] - 6s 99us/sample - loss: 0.2204 - accuracy: 0.9373\n",
      "Epoch 4/25\n",
      "60000/60000 [==============================] - 6s 99us/sample - loss: 0.1861 - accuracy: 0.9467\n",
      "Epoch 5/25\n",
      "60000/60000 [==============================] - 6s 98us/sample - loss: 0.1612 - accuracy: 0.9544\n",
      "Epoch 6/25\n",
      "60000/60000 [==============================] - 6s 100us/sample - loss: 0.1420 - accuracy: 0.9596\n",
      "Epoch 7/25\n",
      "60000/60000 [==============================] - 6s 100us/sample - loss: 0.1258 - accuracy: 0.9648\n",
      "Epoch 8/25\n",
      "60000/60000 [==============================] - 6s 101us/sample - loss: 0.1134 - accuracy: 0.9681\n",
      "Epoch 9/25\n",
      "60000/60000 [==============================] - 6s 99us/sample - loss: 0.1026 - accuracy: 0.9716\n",
      "Epoch 10/25\n",
      "60000/60000 [==============================] - 6s 99us/sample - loss: 0.0934 - accuracy: 0.9741\n",
      "Epoch 11/25\n",
      "60000/60000 [==============================] - 6s 101us/sample - loss: 0.0856 - accuracy: 0.9762\n",
      "Epoch 12/25\n",
      "60000/60000 [==============================] - 6s 101us/sample - loss: 0.0790 - accuracy: 0.9781\n",
      "Epoch 13/25\n",
      "60000/60000 [==============================] - 6s 100us/sample - loss: 0.0726 - accuracy: 0.9795\n",
      "Epoch 14/25\n",
      "60000/60000 [==============================] - 6s 100us/sample - loss: 0.0673 - accuracy: 0.9813\n",
      "Epoch 15/25\n",
      "60000/60000 [==============================] - 6s 99us/sample - loss: 0.0623 - accuracy: 0.9827\n",
      "Epoch 16/25\n",
      "60000/60000 [==============================] - 6s 100us/sample - loss: 0.0581 - accuracy: 0.9846\n",
      "Epoch 17/25\n",
      "60000/60000 [==============================] - 6s 102us/sample - loss: 0.0540 - accuracy: 0.9855\n",
      "Epoch 18/25\n",
      "60000/60000 [==============================] - 6s 102us/sample - loss: 0.0500 - accuracy: 0.9869\n",
      "Epoch 19/25\n",
      "60000/60000 [==============================] - 6s 101us/sample - loss: 0.0468 - accuracy: 0.9879\n",
      "Epoch 20/25\n",
      "60000/60000 [==============================] - 6s 100us/sample - loss: 0.0438 - accuracy: 0.9887\n",
      "Epoch 21/25\n",
      "60000/60000 [==============================] - 6s 101us/sample - loss: 0.0410 - accuracy: 0.9895\n",
      "Epoch 22/25\n",
      "59808/60000 [============================>.] - ETA: 0s - loss: 0.0383 - accuracy: 0.9903\n",
      "Accuracy of 99% is achieved thereby cancelling Training\n",
      "60000/60000 [==============================] - 6s 101us/sample - loss: 0.0383 - accuracy: 0.9903\n"
     ]
    },
    {
     "data": {
      "text/plain": [
       "<tensorflow.python.keras.callbacks.History at 0x7efd9b428dd0>"
      ]
     },
     "execution_count": 8,
     "metadata": {},
     "output_type": "execute_result"
    }
   ],
   "source": [
    "model.fit(x_train, y_train, epochs=25, callbacks=[callbacks])"
   ]
  },
  {
   "cell_type": "code",
   "execution_count": null,
   "metadata": {},
   "outputs": [],
   "source": []
  }
 ],
 "metadata": {
  "kernelspec": {
   "display_name": "DeepLearning",
   "language": "python",
   "name": "deeplearning"
  },
  "language_info": {
   "codemirror_mode": {
    "name": "ipython",
    "version": 3
   },
   "file_extension": ".py",
   "mimetype": "text/x-python",
   "name": "python",
   "nbconvert_exporter": "python",
   "pygments_lexer": "ipython3",
   "version": "3.7.7"
  }
 },
 "nbformat": 4,
 "nbformat_minor": 2
}
